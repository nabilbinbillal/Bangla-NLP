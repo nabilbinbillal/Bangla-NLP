{
 "cells": [
  {
   "metadata": {},
   "cell_type": "code",
   "outputs": [],
   "execution_count": null,
   "source": [
    "# Basic imports\n",
    "from banglanlp.tokenization import tokenize\n",
    "from banglanlp.stopwords import remove_stopwords\n",
    "\n",
    "# Optional: for pretty printing\n",
    "from pprint import pprint"
   ],
   "id": "ef69054e91bd9a2c"
  },
  {
   "metadata": {},
   "cell_type": "code",
   "outputs": [],
   "execution_count": null,
   "source": [
    "text1 = \"আমি বাংলায় গান গাই। তুমি কেমন আছো? আজ আকাশটি সুন্দর।\"\n",
    "tokens1 = tokenize(text1)\n",
    "print(\"Tokens:\", tokens1)\n",
    "\n",
    "text2 = \"আজ আবহাওয়া খুব সুন্দর। সবাই বাইরে যাচ্ছে।\"\n",
    "tokens2 = tokenize(text2)\n",
    "print(\"Tokens:\", tokens2)"
   ],
   "id": "d50c5f60ccccdeb8"
  },
  {
   "metadata": {},
   "cell_type": "code",
   "outputs": [],
   "execution_count": null,
   "source": [
    "filtered1 = remove_stopwords(tokens1)\n",
    "print(\"After stopword removal:\", filtered1)\n",
    "\n",
    "filtered2 = remove_stopwords(tokens2)\n",
    "print(\"After stopword removal:\", filtered2)"
   ],
   "id": "d53d2987cb1ef5ce"
  },
  {
   "metadata": {},
   "cell_type": "code",
   "outputs": [],
   "execution_count": null,
   "source": [
    "text3 = \"রবীন্দ্রনাথ ঠাকুর বাংলাদেশের একজন বিখ্যাত কবি।\"\n",
    "tokens3 = tokenize(text3)\n",
    "filtered3 = remove_stopwords(tokens3)\n",
    "print(tokens3)\n",
    "print(filtered3)"
   ],
   "id": "34d5217d91478e1b"
  }
 ],
 "metadata": {},
 "nbformat": 4,
 "nbformat_minor": 5
}
